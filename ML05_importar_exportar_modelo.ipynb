{
 "cells": [
  {
   "cell_type": "markdown",
   "metadata": {},
   "source": [
    "# Exportar modelo a un fichero\n",
    "Una vez que hemos entrenado nuestro modelo, podemos guardarlo en un fichero binario (mediante la librería pickle) para poder llevarlo a otro entorno o programa.\n",
    "\n",
    "Pasos:\n",
    "\n",
    "1.- Importamos la librería pickle\n",
    "\n",
    "import pickle\n",
    "\n",
    "2.- Creamos un fichero binario (modelo_entrenado.pickle) con el modelo entrenado\n",
    "\n",
    "with open(\"modelo_entrenado.pickle\", \"wb\") as file:\n",
    "    pickle.dump(modelo_entrenado, file)\n"
   ]
  },
  {
   "cell_type": "code",
   "execution_count": 1,
   "metadata": {},
   "outputs": [],
   "source": [
    "import pandas as pd\n",
    "import numpy as np\n",
    "import matplotlib.pyplot as plt\n",
    "import seaborn as sns\n",
    "from sklearn.model_selection import train_test_split\n",
    "from sklearn.svm import SVC"
   ]
  },
  {
   "cell_type": "code",
   "execution_count": 2,
   "metadata": {},
   "outputs": [
    {
     "name": "stdout",
     "output_type": "stream",
     "text": [
      "              precision    recall  f1-score   support\n",
      "\n",
      "      setosa       1.00      1.00      1.00        12\n",
      "  versicolor       0.94      0.94      0.94        18\n",
      "   virginica       0.93      0.93      0.93        15\n",
      "\n",
      "    accuracy                           0.96        45\n",
      "   macro avg       0.96      0.96      0.96        45\n",
      "weighted avg       0.96      0.96      0.96        45\n",
      "\n",
      "[[12  0  0]\n",
      " [ 0 17  1]\n",
      " [ 0  1 14]]\n"
     ]
    }
   ],
   "source": [
    "flores=sns.load_dataset('iris')\n",
    "y=flores['species']\n",
    "X=flores.drop('species',axis=1)\n",
    "\n",
    "X_train,X_test,y_train,y_test = train_test_split(X,y,test_size=0.3)\n",
    "modelo=SVC(gamma='auto')\n",
    "modelo.fit(X_train,y_train)\n",
    "predicciones=modelo.predict(X_test)\n",
    "\n",
    "from sklearn.metrics import confusion_matrix,classification_report\n",
    "print(classification_report(y_test,predicciones))\n",
    "print(confusion_matrix(y_test,predicciones))\n"
   ]
  },
  {
   "cell_type": "code",
   "execution_count": 3,
   "metadata": {},
   "outputs": [],
   "source": [
    "import pickle"
   ]
  },
  {
   "cell_type": "code",
   "execution_count": 4,
   "metadata": {},
   "outputs": [],
   "source": [
    "with open(\"modelo.pickle\",\"wb\") as file:\n",
    "    pickle.dump(modelo,file)"
   ]
  },
  {
   "cell_type": "markdown",
   "metadata": {},
   "source": [
    "# Importar modelo desde un fichero\n",
    "Si queremos importar un modelo de machine learning ya entrenado que está grabado en un fichero binario, seguiremos estos pasos:\n",
    "\n",
    "1.- Importamos la librería pickle\n",
    "\n",
    "import pickle\n",
    "\n",
    "2.- Importamos el modelo desde el fichero binario \"modelo_entrenado.pickle\"\n",
    "\n",
    "with open('modelo_entrenado.pickle', \"rb\") as file:\n",
    "    modelo_entrenado = pickle.load(file)"
   ]
  },
  {
   "cell_type": "code",
   "execution_count": 6,
   "metadata": {},
   "outputs": [],
   "source": [
    "with open('modelo.pickle','rb') as file:\n",
    "    modelo2=pickle.load(file)"
   ]
  },
  {
   "cell_type": "code",
   "execution_count": 7,
   "metadata": {},
   "outputs": [
    {
     "name": "stdout",
     "output_type": "stream",
     "text": [
      "              precision    recall  f1-score   support\n",
      "\n",
      "      setosa       1.00      1.00      1.00        12\n",
      "  versicolor       0.94      0.94      0.94        18\n",
      "   virginica       0.93      0.93      0.93        15\n",
      "\n",
      "    accuracy                           0.96        45\n",
      "   macro avg       0.96      0.96      0.96        45\n",
      "weighted avg       0.96      0.96      0.96        45\n",
      "\n",
      "[[12  0  0]\n",
      " [ 0 17  1]\n",
      " [ 0  1 14]]\n"
     ]
    }
   ],
   "source": [
    "predicciones=modelo2.predict(X_test)\n",
    "\n",
    "print(classification_report(y_test,predicciones))\n",
    "print(confusion_matrix(y_test,predicciones))\n"
   ]
  },
  {
   "cell_type": "code",
   "execution_count": null,
   "metadata": {},
   "outputs": [],
   "source": []
  }
 ],
 "metadata": {
  "kernelspec": {
   "display_name": "base",
   "language": "python",
   "name": "python3"
  },
  "language_info": {
   "codemirror_mode": {
    "name": "ipython",
    "version": 3
   },
   "file_extension": ".py",
   "mimetype": "text/x-python",
   "name": "python",
   "nbconvert_exporter": "python",
   "pygments_lexer": "ipython3",
   "version": "3.10.9"
  }
 },
 "nbformat": 4,
 "nbformat_minor": 2
}
